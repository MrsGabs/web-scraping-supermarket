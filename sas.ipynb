{
 "cells": [
  {
   "cell_type": "code",
   "execution_count": 23,
   "metadata": {},
   "outputs": [
    {
     "name": "stdout",
     "output_type": "stream",
     "text": [
      "Scraping data from https://www.sondadelivery.com.br/delivery/1?page=1\n",
      "Scraping data from https://www.sondadelivery.com.br/delivery/1?page=2\n",
      "Scraping data from https://www.sondadelivery.com.br/delivery/1?page=3\n",
      "Scraping data from https://www.sondadelivery.com.br/delivery/1?page=4\n",
      "Scraping data from https://www.sondadelivery.com.br/delivery/1?page=5\n",
      "Scraping data from https://www.sondadelivery.com.br/delivery/1?page=6\n",
      "Scraping data from https://www.sondadelivery.com.br/delivery/1?page=7\n",
      "Scraping data from https://www.sondadelivery.com.br/delivery/1?page=8\n",
      "Scraping data from https://www.sondadelivery.com.br/delivery/1?page=9\n",
      "Scraping data from https://www.sondadelivery.com.br/delivery/1?page=10\n"
     ]
    }
   ],
   "source": [
    "import requests\n",
    "from bs4 import BeautifulSoup\n",
    "from openpyxl import Workbook\n",
    "import urllib3\n",
    "\n",
    "urllib3.disable_warnings(urllib3.exceptions.InsecureRequestWarning)\n",
    "\n",
    "def scrape_sonda_delivery():\n",
    "    pages = 20\n",
    "    wb = Workbook()\n",
    "    ws = wb.active\n",
    "    ws.append([\"Nome do Produto\", \"Preço\"])\n",
    "\n",
    "    for page in range(1, pages + 1):\n",
    "        url = f'https://www.sondadelivery.com.br/delivery/1?page={page}'\n",
    "        response = requests.get(url, verify=False)\n",
    "        soup = BeautifulSoup(response.text, 'html.parser')\n",
    "\n",
    "        product_containers = soup.find_all('div', class_='product')\n",
    "        if len(product_containers) > 0:\n",
    "            print(f'Scraping data from {url}')\n",
    "            for container in product_containers:\n",
    "                product_price = container.find('span', class_='int')\n",
    "                product_name = container.find('h3', class_='product--title')\n",
    "                if product_price:\n",
    "                    ws.append([product_name.text.strip(), product_price.text.strip()])\n",
    "                wb.save('sonda_delivery2.xlsx')\n",
    "    \n",
    "scrape_sonda_delivery()\n"
   ]
  }
 ],
 "metadata": {
  "kernelspec": {
   "display_name": "Python 3",
   "language": "python",
   "name": "python3"
  },
  "language_info": {
   "codemirror_mode": {
    "name": "ipython",
    "version": 3
   },
   "file_extension": ".py",
   "mimetype": "text/x-python",
   "name": "python",
   "nbconvert_exporter": "python",
   "pygments_lexer": "ipython3",
   "version": "3.10.9"
  },
  "orig_nbformat": 4
 },
 "nbformat": 4,
 "nbformat_minor": 2
}
